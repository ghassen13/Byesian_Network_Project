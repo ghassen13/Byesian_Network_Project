{
 "cells": [
  {
   "cell_type": "markdown",
   "id": "a15a3c22",
   "metadata": {},
   "source": [
    "# Projet -- Apprendre la structure d’un réseau bayésien\n",
    "### Contexte\n",
    "Un réseau bayésien est souvent construit avec l’aide d’un expert et d’une base de données. L’expert (qui parfois est simplement le décideur) peut avoir des intuitions sur les indépendances, ce qui est une cause, ce qui est plutot une conséquence. Parfois, des experts peuvent ne pas s’entendre à ce sujet. Si un expert donne la structure du réseau (i.e. il donne le graphe orienté acyclique), il n’est pas difficile de calculer les tables de probabilités conditionnelles.\n",
    "Si on n’a pas d’expert pour nous aider à construire le graphe, peut-on chercher un bon graphe avec les données ? On peut dire que l’on veut apprendre la structure d’un réseau bayésien. Malheureusement, c’est un problème difficile (c’est un autre problème NP-complet[1, 2]), c’est un sujet de recherche et on trouve d’ailleurs plusieurs thèses\n",
    "récentes sur le sujet. La structure du graphe est à trouver parmi tous les graphes acycliques orientés (DAG pour directed acyclic graphs). Malheureusement, l’espace des DAG est (très) large, donc on ne pourra pas énuméré tous les graphes. On pourra donc utiliser des techniques d’IA (recherche locale) pour chercher un bon graphe.\n",
    "Evidemment, pour faire cette recherche, on a besoin d’une mesure de la qualité de notre graphe. C’est ce qu’on va expliquer dans la section suivante.\n"
   ]
  },
  {
   "cell_type": "markdown",
   "id": "461ea5cc",
   "metadata": {},
   "source": [
    "### Importation des librairies"
   ]
  },
  {
   "cell_type": "code",
   "execution_count": 93,
   "id": "ad3f70f0",
   "metadata": {},
   "outputs": [],
   "source": [
    "import pandas as pd\n",
    "import numpy as np\n",
    "import matplotlib.pyplot as plt\n",
    "\n",
    "import itertools\n",
    "import networkx as nx\n",
    "\n",
    "from pgmpy.models import BayesianModel\n",
    "from pgmpy.estimators import MaximumLikelihoodEstimator, BayesianEstimator\n",
    "\n",
    "from sklearn.model_selection import train_test_split\n",
    "from sklearn.metrics import accuracy_score, precision_score, recall_score, f1_score\n",
    "from sklearn.metrics import confusion_matrix, classification_report\n",
    "\n",
    "from sklearn.naive_bayes import GaussianNB "
   ]
  },
  {
   "cell_type": "markdown",
   "id": "b39bc5bf",
   "metadata": {},
   "source": [
    "# Base de donnée: TITANIC"
   ]
  },
  {
   "cell_type": "code",
   "execution_count": 2,
   "id": "7ece61be",
   "metadata": {},
   "outputs": [],
   "source": [
    "# Importer la base de données Titanic\n",
    "data = pd.read_csv('titanic.csv')"
   ]
  },
  {
   "cell_type": "code",
   "execution_count": 3,
   "id": "93ab4d29",
   "metadata": {},
   "outputs": [
    {
     "data": {
      "text/html": [
       "<div>\n",
       "<style scoped>\n",
       "    .dataframe tbody tr th:only-of-type {\n",
       "        vertical-align: middle;\n",
       "    }\n",
       "\n",
       "    .dataframe tbody tr th {\n",
       "        vertical-align: top;\n",
       "    }\n",
       "\n",
       "    .dataframe thead th {\n",
       "        text-align: right;\n",
       "    }\n",
       "</style>\n",
       "<table border=\"1\" class=\"dataframe\">\n",
       "  <thead>\n",
       "    <tr style=\"text-align: right;\">\n",
       "      <th></th>\n",
       "      <th>age</th>\n",
       "      <th>portembarked</th>\n",
       "      <th>fare</th>\n",
       "      <th>numparentschildren</th>\n",
       "      <th>passengerclass</th>\n",
       "      <th>sex</th>\n",
       "      <th>numsiblings</th>\n",
       "      <th>survived</th>\n",
       "    </tr>\n",
       "  </thead>\n",
       "  <tbody>\n",
       "    <tr>\n",
       "      <th>0</th>\n",
       "      <td>1</td>\n",
       "      <td>1</td>\n",
       "      <td>1</td>\n",
       "      <td>1</td>\n",
       "      <td>1</td>\n",
       "      <td>1</td>\n",
       "      <td>1</td>\n",
       "      <td>1</td>\n",
       "    </tr>\n",
       "    <tr>\n",
       "      <th>1</th>\n",
       "      <td>2</td>\n",
       "      <td>2</td>\n",
       "      <td>1</td>\n",
       "      <td>1</td>\n",
       "      <td>2</td>\n",
       "      <td>2</td>\n",
       "      <td>1</td>\n",
       "      <td>2</td>\n",
       "    </tr>\n",
       "    <tr>\n",
       "      <th>2</th>\n",
       "      <td>1</td>\n",
       "      <td>1</td>\n",
       "      <td>1</td>\n",
       "      <td>1</td>\n",
       "      <td>1</td>\n",
       "      <td>2</td>\n",
       "      <td>1</td>\n",
       "      <td>2</td>\n",
       "    </tr>\n",
       "    <tr>\n",
       "      <th>3</th>\n",
       "      <td>2</td>\n",
       "      <td>1</td>\n",
       "      <td>1</td>\n",
       "      <td>1</td>\n",
       "      <td>2</td>\n",
       "      <td>2</td>\n",
       "      <td>1</td>\n",
       "      <td>2</td>\n",
       "    </tr>\n",
       "    <tr>\n",
       "      <th>4</th>\n",
       "      <td>2</td>\n",
       "      <td>1</td>\n",
       "      <td>1</td>\n",
       "      <td>1</td>\n",
       "      <td>1</td>\n",
       "      <td>1</td>\n",
       "      <td>1</td>\n",
       "      <td>1</td>\n",
       "    </tr>\n",
       "  </tbody>\n",
       "</table>\n",
       "</div>"
      ],
      "text/plain": [
       "   age  portembarked  fare  numparentschildren  passengerclass  sex  \\\n",
       "0    1             1     1                   1               1    1   \n",
       "1    2             2     1                   1               2    2   \n",
       "2    1             1     1                   1               1    2   \n",
       "3    2             1     1                   1               2    2   \n",
       "4    2             1     1                   1               1    1   \n",
       "\n",
       "   numsiblings  survived  \n",
       "0            1         1  \n",
       "1            1         2  \n",
       "2            1         2  \n",
       "3            1         2  \n",
       "4            1         1  "
      ]
     },
     "execution_count": 3,
     "metadata": {},
     "output_type": "execute_result"
    }
   ],
   "source": [
    "data.head()"
   ]
  },
  {
   "cell_type": "markdown",
   "id": "59d02d52",
   "metadata": {},
   "source": [
    "## Nombre de DAG possible & Création d'un réseau bayésien"
   ]
  },
  {
   "cell_type": "code",
   "execution_count": 2,
   "id": "0f76f994",
   "metadata": {},
   "outputs": [
    {
     "name": "stderr",
     "output_type": "stream",
     "text": [
      "C:\\Users\\MSI\\AppData\\Local\\Temp\\ipykernel_14808\\3611349300.py:17: FutureWarning: elementwise comparison failed; returning scalar instead, but in the future will perform elementwise comparison\n",
      "  if subset[j] in data[subset[i]].values:\n"
     ]
    },
    {
     "name": "stdout",
     "output_type": "stream",
     "text": [
      "Le nombre de DAG possibles est :  109601\n"
     ]
    }
   ],
   "source": [
    "# Créer une liste des noms des colonnes\n",
    "columns = data.columns.tolist()\n",
    "\n",
    "# Initialiser un compteur pour le nombre de DAG possibles\n",
    "count = 0\n",
    "\n",
    "# Parcourir toutes les permutations des colonnes\n",
    "for L in range(0, len(columns)+1):\n",
    "    for subset in itertools.permutations(columns, L):\n",
    "        # Vérifier si la permutation est un DAG\n",
    "        is_dag = True\n",
    "        for i in range(1, len(subset)):\n",
    "            for j in range(0, i):\n",
    "                if subset[j] in data[subset[i]].values:\n",
    "                    is_dag = False\n",
    "                    break\n",
    "            if not is_dag:\n",
    "                break\n",
    "        # Incrémenter le compteur si la permutation est un DAG\n",
    "        if is_dag:\n",
    "            count += 1\n",
    "\n",
    "print(\"Le nombre de DAG possibles est : \", count)\n"
   ]
  },
  {
   "cell_type": "code",
   "execution_count": 59,
   "id": "04c63130",
   "metadata": {},
   "outputs": [
    {
     "data": {
      "image/png": "[encoded data removed]",
      "text/plain": [
       "<Figure size 432x288 with 1 Axes>"
      ]
     },
     "metadata": {},
     "output_type": "display_data"
    }
   ],
   "source": [
    "# Define nodes and edges\n",
    "nodes = ['age', 'portembarked', 'fare', 'numparentschildren', 'passengerclass', 'sex', 'numsiblings','survived']\n",
    "edges = [('passengerclass', 'survived'), ('sex', 'survived'), ('age', 'survived'), ('fare', 'survived'),\n",
    "         ('numsiblings', 'survived'), ('numparentschildren', 'survived'), ('portembarked', 'survived')]\n",
    "\n",
    "# Create directed graph object\n",
    "G = nx.DiGraph()\n",
    "\n",
    "# Add nodes to the graph\n",
    "for node in nodes:\n",
    "    G.add_node(node)\n",
    "\n",
    "# Add edges to the graph\n",
    "G.add_edges_from(edges)\n",
    "\n",
    "# Draw the graph\n",
    "nx.draw(G, with_labels=True)\n",
    "plt.show()"
   ]
  },
  {
   "cell_type": "code",
   "execution_count": 43,
   "id": "c6b44860",
   "metadata": {},
   "outputs": [],
   "source": [
    "nx.write_graphml(G, 'Bayesian_Model_Titanic.graph')"
   ]
  },
  {
   "cell_type": "markdown",
   "id": "130d3b69",
   "metadata": {},
   "source": [
    "## Calcule de probabilité"
   ]
  },
  {
   "cell_type": "code",
   "execution_count": 10,
   "id": "c99a1d5c",
   "metadata": {},
   "outputs": [
    {
     "name": "stdout",
     "output_type": "stream",
     "text": [
      "La probabilité de survived = 1 est:  0.6189402480270575\n",
      "La probabilité de survived = 2 est:  0.3833145434047351\n"
     ]
    }
   ],
   "source": [
    "nb_surv_1 = len(data[data['survived'] == 1])\n",
    "p_surv_1 = nb_surv_1 / 887\n",
    "print('La probabilité de survived = 1 est: ', p_surv_1)\n",
    "\n",
    "nb_surv_2 = len(data[data['survived'] == 2])\n",
    "p_surv_2 = nb_surv_2 / 887\n",
    "print('La probabilité de survived = 2 est: ', p_surv_2)"
   ]
  },
  {
   "cell_type": "markdown",
   "id": "235ecb10",
   "metadata": {},
   "source": [
    "#### Probabilite de sex"
   ]
  },
  {
   "cell_type": "code",
   "execution_count": 11,
   "id": "c0537749",
   "metadata": {},
   "outputs": [
    {
     "name": "stdout",
     "output_type": "stream",
     "text": [
      "probabilite de sex = 1 est:  0.6505073280721533\n",
      "probabilite de sex = 2 est:  0.35174746335963925\n"
     ]
    }
   ],
   "source": [
    "nb_sex_1 = len(data[data['sex'] == 1]) # nombre de sex=1\n",
    "p_sex_1 = nb_sex_1 / 887 # probabilite que sex=1\n",
    "print(\"probabilite de sex = 1 est: \", p_sex_1)\n",
    "\n",
    "nb_sex_2 = len(data[data['sex'] == 2]) # nombre de sex=2\n",
    "p_sex_2 = nb_sex_2 / 887 # probabilite que sex=1\n",
    "print(\"probabilite de sex = 2 est: \", p_sex_2)"
   ]
  },
  {
   "cell_type": "markdown",
   "id": "b60a0c2d",
   "metadata": {},
   "source": [
    "#### Probabilite de sex sachant que survived = 1"
   ]
  },
  {
   "cell_type": "code",
   "execution_count": 12,
   "id": "ecaf394d",
   "metadata": {},
   "outputs": [
    {
     "name": "stdout",
     "output_type": "stream",
     "text": [
      "La probabilite de sex=1 sachant survived = 1 est: 0.8524590163934426\n",
      "La probabilite de sex=2 sachant survived = 1 est: 0.14754098360655737\n"
     ]
    }
   ],
   "source": [
    "p_sex_1_surv_1 = len(data[(data['sex'] == 1) & (data['survived'] == 1)]) / 887 #probabilite de survie (survived=1) et sex=1\n",
    "prob = p_sex_1_surv_1 / p_surv_1\n",
    "print('La probabilite de sex=1 sachant survived = 1 est:', prob)\n",
    "\n",
    "p_sex_2_surv_1 = len(data[(data['sex'] == 2) & (data['survived'] == 1)]) / 887 #probabilite de survie (survived=1) et sex=2\n",
    "prob2 = p_sex_2_surv_1 / p_surv_1\n",
    "print('La probabilite de sex=2 sachant survived = 1 est:', prob2)"
   ]
  },
  {
   "cell_type": "markdown",
   "id": "141cd4b4",
   "metadata": {},
   "source": [
    "#### Probabilite de passengerclass"
   ]
  },
  {
   "cell_type": "code",
   "execution_count": 13,
   "id": "4081f227",
   "metadata": {},
   "outputs": [
    {
     "name": "stdout",
     "output_type": "stream",
     "text": [
      "probabilite de Pclasse = 1 est: 0.5535512965050733\n",
      "probabilite de Pclasse = 2 est: 0.24126268320180383\n",
      "probabilite de Pclasse = 3 est: 0.20744081172491544\n"
     ]
    }
   ],
   "source": [
    "nb_Pclass_1 = len(data[data['passengerclass'] == 1]) # nombre de Pclass=1\n",
    "p_Pclass_1 = nb_Pclass_1 / 887 # probabilite que Pclass=1\n",
    "print(\"probabilite de Pclasse = 1 est:\", p_Pclass_1)\n",
    "\n",
    "nb_Pclass_2 = len(data[data['passengerclass'] == 2]) # nombre de Pclass=2\n",
    "p_Pclass_2 = nb_Pclass_2 / 887 # probabilite que Pclass=2\n",
    "print(\"probabilite de Pclasse = 2 est:\", p_Pclass_2)\n",
    "\n",
    "nb_Pclass_3 = len(data[data['passengerclass'] == 3]) # nombre de Pclass=3\n",
    "p_Pclass_3 = nb_Pclass_3 / 887 # probabilite que Pclass=3\n",
    "print(\"probabilite de Pclasse = 3 est:\", p_Pclass_3)"
   ]
  },
  {
   "cell_type": "markdown",
   "id": "fe838ab3",
   "metadata": {},
   "source": [
    "#### Probabilite de passengerclass sachant survived = 1"
   ]
  },
  {
   "cell_type": "code",
   "execution_count": 14,
   "id": "6e488a69",
   "metadata": {},
   "outputs": [
    {
     "name": "stdout",
     "output_type": "stream",
     "text": [
      "La probabilite de Pclass = 1 sachant survived = 1 est: 0.6775956284153006\n",
      "La probabilite de Pclass = 2 sachant survived = 1 est: 0.14571948998178505\n",
      "La probabilite de Pclass = 3 sachant survived = 1 est: 0.1766848816029144\n"
     ]
    }
   ],
   "source": [
    "p_Pclass_1_surv_1 = len(data[(data['passengerclass'] == 1) & (data['survived'] == 1)]) / 887 #probabilite de survie (survived=1) et Pclass=1\n",
    "prob = p_Pclass_1_surv_1 / p_surv_1\n",
    "print('La probabilite de Pclass = 1 sachant survived = 1 est:', prob)\n",
    "\n",
    "p_Pclass_2_surv_1 = len(data[(data['passengerclass'] == 2) & (data['survived'] == 1)]) / 887 #probabilite de survie (survived=1) et Pclass=2\n",
    "prob2 = p_Pclass_2_surv_1 / p_surv_1\n",
    "print('La probabilite de Pclass = 2 sachant survived = 1 est:', prob2)\n",
    "\n",
    "p_Pclass_3_surv_1 = len(data[(data['passengerclass'] == 3) & (data['survived'] == 1)]) / 887 #probabilite de survie (survived=1) et Pclass=3\n",
    "prob3 = p_Pclass_3_surv_1 / p_surv_1\n",
    "print('La probabilite de Pclass = 3 sachant survived = 1 est:', prob3)"
   ]
  },
  {
   "cell_type": "markdown",
   "id": "d4ee2317",
   "metadata": {},
   "source": [
    "#### Probabilite de l' age"
   ]
  },
  {
   "cell_type": "code",
   "execution_count": 15,
   "id": "76fcf095",
   "metadata": {},
   "outputs": [
    {
     "name": "stdout",
     "output_type": "stream",
     "text": [
      "probabilite de age = 1 est: 0.3596392333709132\n",
      "probabilite de age = 2 est: 0.5873731679819617\n",
      "probabilite de age = 3 est: 0.0552423900789177\n"
     ]
    }
   ],
   "source": [
    "nb_age_1 = len(data[data['age'] == 1]) # nombre de age=1\n",
    "p_age_1 = nb_age_1 / 887 # probabilite que age=1\n",
    "print(\"probabilite de age = 1 est:\", p_age_1)\n",
    "\n",
    "nb_age_2 = len(data[data['age'] == 2]) # nombre de age=2\n",
    "p_age_2 = nb_age_2 / 887 # probabilite que age=2\n",
    "print(\"probabilite de age = 2 est:\", p_age_2)\n",
    "\n",
    "nb_age_3 = len(data[data['age'] == 3]) # nombre de age=3\n",
    "p_age_3 = nb_age_3 / 887 # probabilite que age=3\n",
    "print(\"probabilite de age = 3 est:\", p_age_3)"
   ]
  },
  {
   "cell_type": "markdown",
   "id": "b1bbbc1f",
   "metadata": {},
   "source": [
    "#### Probabilite d'age sachant survived = 1"
   ]
  },
  {
   "cell_type": "code",
   "execution_count": 16,
   "id": "ef3a53ec",
   "metadata": {},
   "outputs": [
    {
     "name": "stdout",
     "output_type": "stream",
     "text": [
      "La probabilite d'age = 1 sachant survived = 1 est: 0.3442622950819672\n",
      "La probabilite d'age = 2 sachant survived = 1 est: 0.5938069216757741\n",
      "La probabilite d'age = 3 sachant survived = 1 est: 0.06193078324225865\n"
     ]
    }
   ],
   "source": [
    "p_age_1_surv_1 = len(data[(data['age'] == 1) & (data['survived'] == 1)]) / 887 #probabilite de survie (survived=1) et age=1\n",
    "prob = p_age_1_surv_1 / p_surv_1\n",
    "print(\"La probabilite d'age = 1 sachant survived = 1 est:\", prob)\n",
    "\n",
    "p_age_2_surv_1 = len(data[(data['age'] == 2) & (data['survived'] == 1)]) / 887 #probabilite de survie (survived=1) et age=2\n",
    "prob2 = p_age_2_surv_1 / p_surv_1\n",
    "print(\"La probabilite d'age = 2 sachant survived = 1 est:\", prob2)\n",
    "\n",
    "p_age_3_surv_1 = len(data[(data['age'] == 3) & (data['survived'] == 1)]) / 887 #probabilite de survie (survived=1) et age=3\n",
    "prob3 = p_age_3_surv_1 / p_surv_1\n",
    "print(\"La probabilite d'age = 3 sachant survived = 1 est:\", prob3)"
   ]
  },
  {
   "cell_type": "markdown",
   "id": "906fdddb",
   "metadata": {},
   "source": [
    "#### Probabilite de fare"
   ]
  },
  {
   "cell_type": "code",
   "execution_count": 17,
   "id": "ebdaf4bd",
   "metadata": {
    "scrolled": true
   },
   "outputs": [
    {
     "name": "stdout",
     "output_type": "stream",
     "text": [
      "Probabilite de fare = 1 est: 0.979706877113867\n",
      "Probabilite de fare = 2 est: 0.019165727170236752\n",
      "Probabilite de fare = 3 est: 0.0033821871476888386\n"
     ]
    }
   ],
   "source": [
    "nb_fare_1 = len(data[data['fare'] == 1]) # nombre de fare=1\n",
    "p_fare_1 = nb_fare_1 / 887 # probabilite que fare=1\n",
    "print(\"Probabilite de fare = 1 est:\", p_fare_1)\n",
    "\n",
    "nb_fare_2 = len(data[data['fare'] == 2]) # nombre de fare=2\n",
    "p_fare_2 = nb_fare_2 / 887 # probabilite que fare=2\n",
    "print(\"Probabilite de fare = 2 est:\", p_fare_2)\n",
    "\n",
    "nb_fare_3 = len(data[data['fare'] == 3]) # nombre de fare=3\n",
    "p_fare_3 = nb_fare_3 / 887 # probabilite que fare=3\n",
    "print(\"Probabilite de fare = 3 est:\", p_fare_3)"
   ]
  },
  {
   "cell_type": "markdown",
   "id": "74a6408b",
   "metadata": {},
   "source": [
    "#### Probabilite de fare sachant survived = 1"
   ]
  },
  {
   "cell_type": "code",
   "execution_count": 18,
   "id": "76ea02c4",
   "metadata": {},
   "outputs": [
    {
     "name": "stdout",
     "output_type": "stream",
     "text": [
      "La probabilite de fare = 1 sachant survived = 1 est: 0.9890710382513661\n",
      "La probabilite de fare = 2 sachant survived = 1 est: 0.01092896174863388\n",
      "La probabilite de fare = 3 sachant survived = 1 est: 0.0\n"
     ]
    }
   ],
   "source": [
    "p_fare_1_surv_1 = len(data[(data['fare'] == 1) & (data['survived'] == 1)]) / 887 #probabilite de survie (survived=1) et fare=1\n",
    "prob = p_fare_1_surv_1 / p_surv_1\n",
    "print('La probabilite de fare = 1 sachant survived = 1 est:', prob)\n",
    "\n",
    "p_fare_2_surv_1 = len(data[(data['fare'] == 2) & (data['survived'] == 1)]) / 887 #probabilite de survie (survived=1) et fare=2\n",
    "prob2 = p_fare_2_surv_1 / p_surv_1\n",
    "print('La probabilite de fare = 2 sachant survived = 1 est:', prob2)\n",
    "\n",
    "p_fare_3_surv_1 = len(data[(data['fare'] == 3) & (data['survived'] == 1)]) / 887 #probabilite de survie (survived=1) et fare=3\n",
    "prob3 = p_fare_3_surv_1 / p_surv_1\n",
    "print('La probabilite de fare = 3 sachant survived = 1 est:', prob3)"
   ]
  },
  {
   "cell_type": "markdown",
   "id": "a25bd79f",
   "metadata": {},
   "source": [
    "#### Probabilité de numsiblings"
   ]
  },
  {
   "cell_type": "code",
   "execution_count": 19,
   "id": "736cb4e0",
   "metadata": {},
   "outputs": [
    {
     "name": "stdout",
     "output_type": "stream",
     "text": [
      "probabilite de numsiblings = 1 est: 0.9503945885005637\n",
      "probabilite de numsiblings = 2 est: 0.043968432919954906\n",
      "probabilite de numsiblings = 3 est: 0.007891770011273957\n"
     ]
    }
   ],
   "source": [
    "nb_numSib_1 = len(data[data['numsiblings'] == 1]) # nombre de numsib=1\n",
    "p_numSib_1 = nb_numSib_1 / 887 # probabilite que numsib=1\n",
    "print(\"probabilite de numsiblings = 1 est:\", p_numSib_1)\n",
    "\n",
    "nb_numSib_2 = len(data[data['numsiblings'] == 2]) # nombre de numsib=2\n",
    "p_numSib_2 = nb_numSib_2 / 887 # probabilite que numsib=2\n",
    "print(\"probabilite de numsiblings = 2 est:\", p_numSib_2)\n",
    "\n",
    "nb_numSib_3 = len(data[data['numsiblings'] == 3]) # nombre de numsib=3\n",
    "p_numSib_3 = nb_numSib_3 / 887 # probabilite que numsib=3\n",
    "print(\"probabilite de numsiblings = 3 est:\", p_numSib_3)"
   ]
  },
  {
   "cell_type": "markdown",
   "id": "710ec079",
   "metadata": {},
   "source": [
    "#### Probabilité de numsiblings sachant survived = 1"
   ]
  },
  {
   "cell_type": "code",
   "execution_count": 20,
   "id": "69a0fc22",
   "metadata": {},
   "outputs": [
    {
     "name": "stdout",
     "output_type": "stream",
     "text": [
      "La probabilite de numsiblings = 1 sachant survived = 1 est: 0.9289617486338798\n",
      "La probabilite de numsiblings = 2 sachant survived = 1 est: 0.058287795992714025\n",
      "La probabilite de numsiblings = 3 sachant survived = 1 est: 0.012750455373406192\n"
     ]
    }
   ],
   "source": [
    "p_numSib_1_surv_1 = len(data[(data['numsiblings'] == 1) & (data['survived'] == 1)]) / 887 #probabilite de survie (survived=1) et numsib=1\n",
    "prob = p_numSib_1_surv_1 / p_surv_1\n",
    "print('La probabilite de numsiblings = 1 sachant survived = 1 est:', prob)\n",
    "\n",
    "p_numSib_2_surv_1 = len(data[(data['numsiblings'] == 2) & (data['survived'] == 1)]) / 887 #probabilite de survie (survived=1) et numsib=2\n",
    "prob2 = p_numSib_2_surv_1 / p_surv_1\n",
    "print('La probabilite de numsiblings = 2 sachant survived = 1 est:', prob2)\n",
    "\n",
    "p_numSib_3_surv_1 = len(data[(data['numsiblings'] == 3) & (data['survived'] == 1)]) / 887 #probabilite de survie (survived=1) et numsib=3\n",
    "prob3 = p_numSib_3_surv_1 / p_surv_1\n",
    "print('La probabilite de numsiblings = 3 sachant survived = 1 est:', prob3)"
   ]
  },
  {
   "cell_type": "markdown",
   "id": "9ec1fe45",
   "metadata": {},
   "source": [
    "#### Probabilite de numparenteschildren"
   ]
  },
  {
   "cell_type": "code",
   "execution_count": 21,
   "id": "9fa4605a",
   "metadata": {},
   "outputs": [
    {
     "name": "stdout",
     "output_type": "stream",
     "text": [
      "Probabilite de numparentschildren = 1 est: 0.895152198421646\n",
      "Probabilite de numparentschildren = 2 est: 0.09582863585118377\n",
      "Probabilite de numparentschildren = 3 est: 0.011273957158962795\n"
     ]
    }
   ],
   "source": [
    "nb_numparch_1 = len(data[data['numparentschildren'] == 1]) # nombre de numparch=1\n",
    "p_numparch_1 = nb_numparch_1 / 887 # probabilite que numparch=1\n",
    "print(\"Probabilite de numparentschildren = 1 est:\", p_numparch_1)\n",
    "\n",
    "nb_numparch_2 = len(data[data['numparentschildren'] == 2]) # nombre de numparch=2\n",
    "p_numparch_2 = nb_numparch_2 / 887 # probabilite que numparch=2\n",
    "print(\"Probabilite de numparentschildren = 2 est:\", p_numparch_2)\n",
    "\n",
    "nb_numparch_3 = len(data[data['numparentschildren'] == 3]) # nombre de numparch=3\n",
    "p_numparch_3 = nb_numparch_3 / 887 # probabilite que numparch=3\n",
    "print(\"Probabilite de numparentschildren = 3 est:\", p_numparch_3)"
   ]
  },
  {
   "cell_type": "markdown",
   "id": "2e331780",
   "metadata": {},
   "source": [
    "#### Probabilite de numparentschildren sachant survived = 1"
   ]
  },
  {
   "cell_type": "code",
   "execution_count": 23,
   "id": "f7043368",
   "metadata": {},
   "outputs": [
    {
     "name": "stdout",
     "output_type": "stream",
     "text": [
      "La probabilite de numparentschildren = 1 sachant survived = 1 est: 0.907103825136612\n",
      "La probabilite de numparentschildren = 2 sachant survived = 1 est: 0.07650273224043716\n",
      "La probabilite de numparentschildren = 3 sachant survived = 1 est: 0.01639344262295082\n"
     ]
    }
   ],
   "source": [
    "p_numparch_1_surv_1 = len(data[(data['numparentschildren'] == 1) & (data['survived'] == 1)]) / 887 #probabilite de survie (survived=1) et numparch=1\n",
    "prob = p_numparch_1_surv_1 / p_surv_1\n",
    "print('La probabilite de numparentschildren = 1 sachant survived = 1 est:', prob)\n",
    "\n",
    "p_numparch_2_surv_1 = len(data[(data['numparentschildren'] == 2) & (data['survived'] == 1)]) / 887 #probabilite de survie (survived=1) et numparch=2\n",
    "prob2 = p_numparch_2_surv_1 / p_surv_1\n",
    "print('La probabilite de numparentschildren = 2 sachant survived = 1 est:', prob2)\n",
    "\n",
    "p_numparch_3_surv_1 = len(data[(data['numparentschildren'] == 3) & (data['survived'] == 1)]) / 887 #probabilite de survie (survived=1) et numparch=3\n",
    "prob3 = p_numparch_3_surv_1 / p_surv_1\n",
    "print('La probabilite de numparentschildren = 3 sachant survived = 1 est:', prob3)"
   ]
  },
  {
   "cell_type": "markdown",
   "id": "434614a9",
   "metadata": {},
   "source": [
    "#### Probabilite de portembarked"
   ]
  },
  {
   "cell_type": "code",
   "execution_count": 24,
   "id": "62882d4c",
   "metadata": {},
   "outputs": [
    {
     "name": "stdout",
     "output_type": "stream",
     "text": [
      "Probabilite de portembarked = 1 est: 0.7260428410372041\n",
      "Probabilite de portembarked = 2 est: 0.18940248027057496\n",
      "probabilite de portembarked = 3 est: 0.08680947012401354\n"
     ]
    }
   ],
   "source": [
    "nb_porte_1 = len(data[data['portembarked'] == 1]) # nombre de porte=1\n",
    "p_porte_1 = nb_porte_1 / 887 # probabilite que porte=1\n",
    "print(\"Probabilite de portembarked = 1 est:\", p_porte_1)\n",
    "\n",
    "nb_porte_2 = len(data[data['portembarked'] == 2]) # nombre de porte=2\n",
    "p_porte_2 = nb_porte_2 / 887 # probabilite que porte=2\n",
    "print(\"Probabilite de portembarked = 2 est:\", p_porte_2)\n",
    "\n",
    "nb_porte_3 = len(data[data['portembarked'] == 3]) # nombre de porte=3\n",
    "p_porte_3 = nb_porte_3 / 887 # probabilite que porte=3\n",
    "print(\"probabilite de portembarked = 3 est:\", p_porte_3)"
   ]
  },
  {
   "cell_type": "markdown",
   "id": "11c0a0a0",
   "metadata": {},
   "source": [
    "### Probabilite de portembarked sachant survived = 1"
   ]
  },
  {
   "cell_type": "code",
   "execution_count": 25,
   "id": "60fcb8d7",
   "metadata": {},
   "outputs": [
    {
     "name": "stdout",
     "output_type": "stream",
     "text": [
      "La probabilite de portembarked = 1 sachant survived = 1 est: 0.7777777777777778\n",
      "La probabilite de portembarked = 2 sachant survived = 1 est: 0.1366120218579235\n",
      "La probabilite de portembarked = 3 sachant survived = 1 est: 0.08561020036429873\n"
     ]
    }
   ],
   "source": [
    "p_porte_1_surv_1 = len(data[(data['portembarked'] == 1) & (data['survived'] == 1)])/887 #probabilite de survie (survived=1) et porte=1\n",
    "prob = p_porte_1_surv_1 / p_surv_1\n",
    "print('La probabilite de portembarked = 1 sachant survived = 1 est:', prob)\n",
    "\n",
    "p_porte_2_surv_1 = len(data[(data['portembarked'] == 2) & (data['survived'] == 1)]) / 887 #probabilite de survie (survived=1) et porte=2\n",
    "prob2 = p_porte_2_surv_1 / p_surv_1\n",
    "print('La probabilite de portembarked = 2 sachant survived = 1 est:', prob2)\n",
    "\n",
    "p_porte_3_surv_1 = len(data[(data['portembarked'] == 3) & (data['survived'] == 1)]) / 887 #probabilite de survie (survived=1) et porte=3\n",
    "prob3 = p_porte_3_surv_1 / p_surv_1\n",
    "print('La probabilite de portembarked = 3 sachant survived = 1 est:', prob3)"
   ]
  },
  {
   "cell_type": "markdown",
   "id": "6e59a0e0",
   "metadata": {},
   "source": [
    "## Classification"
   ]
  },
  {
   "cell_type": "markdown",
   "id": "e9c1b165",
   "metadata": {},
   "source": [
    "### Séparer les données en ensemble d'entraînement et ensemble de test."
   ]
  },
  {
   "cell_type": "code",
   "execution_count": 37,
   "id": "163d21b1",
   "metadata": {},
   "outputs": [],
   "source": [
    "features = ['passengerclass', 'sex', 'age', 'numsiblings', 'numparentschildren', 'fare', 'portembarked']\n",
    "X_train, X_test, y_train, y_test = train_test_split(data[features], data['survived'], test_size=0.3, random_state=42)"
   ]
  },
  {
   "cell_type": "markdown",
   "id": "c15a79cf",
   "metadata": {},
   "source": [
    "### Classification avec le Réseau Bayésien"
   ]
  },
  {
   "cell_type": "code",
   "execution_count": 60,
   "id": "f3c732f4",
   "metadata": {},
   "outputs": [],
   "source": [
    "# Create Bayesian Network object\n",
    "titanic_bn = BayesianModel(edges)"
   ]
  },
  {
   "cell_type": "code",
   "execution_count": 38,
   "id": "785a89c4",
   "metadata": {},
   "outputs": [],
   "source": [
    "# Define the probability distributions of the variables using BayesianEstimator\n",
    "titanic_bn.fit(data, estimator=BayesianEstimator)"
   ]
  },
  {
   "cell_type": "code",
   "execution_count": 39,
   "id": "753219a3",
   "metadata": {},
   "outputs": [
    {
     "data": {
      "application/vnd.jupyter.widget-view+json": {
       "model_id": "",
       "version_major": 2,
       "version_minor": 0
      },
      "text/plain": [
       "  0%|          | 0/51 [00:00<?, ?it/s]"
      ]
     },
     "metadata": {},
     "output_type": "display_data"
    },
    {
     "name": "stdout",
     "output_type": "stream",
     "text": [
      "\n",
      "Bayesian Network Classifier Performance:\n",
      "Accuracy: 0.8314606741573034\n",
      "Precision: 0.8315217391304348\n",
      "Recall: 0.9161676646706587\n",
      "F1 Score: 0.8717948717948718\n"
     ]
    }
   ],
   "source": [
    "# Prédire les étiquettes sur l'ensemble de test\n",
    "y_pred_bn = titanic_bn.predict(X_test)\n",
    "\n",
    "print(\"\\nBayesian Network Classifier Performance:\")\n",
    "print(\"Accuracy:\", accuracy_score(y_test, y_pred_bn))\n",
    "print(\"Precision:\", precision_score(y_test, y_pred_bn))\n",
    "print(\"Recall:\", recall_score(y_test, y_pred_bn))\n",
    "print(\"F1 Score:\", f1_score(y_test, y_pred_bn))"
   ]
  },
  {
   "cell_type": "markdown",
   "id": "4d672c4f",
   "metadata": {},
   "source": [
    "### Classification avec l'algorithme de Naive Bayes"
   ]
  },
  {
   "cell_type": "code",
   "execution_count": 40,
   "id": "fed25bf7",
   "metadata": {},
   "outputs": [
    {
     "data": {
      "text/plain": [
       "GaussianNB()"
      ]
     },
     "execution_count": 40,
     "metadata": {},
     "output_type": "execute_result"
    }
   ],
   "source": [
    "classifier = GaussianNB()  \n",
    "classifier.fit(X_train, y_train)  "
   ]
  },
  {
   "cell_type": "code",
   "execution_count": 41,
   "id": "09785005",
   "metadata": {},
   "outputs": [],
   "source": [
    "y_pred_nb = classifier.predict(X_test)"
   ]
  },
  {
   "cell_type": "code",
   "execution_count": 42,
   "id": "618d4883",
   "metadata": {},
   "outputs": [
    {
     "name": "stdout",
     "output_type": "stream",
     "text": [
      "Naive Bayes Classifier Performance:\n",
      "Accuracy: 0.8052434456928839\n",
      "Precision: 0.8323699421965318\n",
      "Recall: 0.8622754491017964\n",
      "F1 Score: 0.8470588235294118\n"
     ]
    }
   ],
   "source": [
    "# Calculer les métriques de performance\n",
    "print(\"Naive Bayes Classifier Performance:\")\n",
    "print(\"Accuracy:\", accuracy_score(y_test, y_pred_nb))\n",
    "print(\"Precision:\", precision_score(y_test, y_pred_nb))\n",
    "print(\"Recall:\", recall_score(y_test, y_pred_nb))\n",
    "print(\"F1 Score:\", f1_score(y_test, y_pred_nb))"
   ]
  },
  {
   "cell_type": "markdown",
   "id": "1df77d51",
   "metadata": {},
   "source": [
    "### Comparaision entre le réseau bayésien et l'lagorithme de classification naive bayes"
   ]
  },
  {
   "cell_type": "markdown",
   "id": "3ee67c0b",
   "metadata": {},
   "source": [
    "#### La Matrice de confusion du Réseau Bayésien"
   ]
  },
  {
   "cell_type": "code",
   "execution_count": 46,
   "id": "5735f08b",
   "metadata": {},
   "outputs": [
    {
     "name": "stdout",
     "output_type": "stream",
     "text": [
      "Classification report:\n",
      "               precision    recall  f1-score   support\n",
      "\n",
      "           1       0.83      0.92      0.87       167\n",
      "           2       0.83      0.69      0.75       100\n",
      "\n",
      "    accuracy                           0.83       267\n",
      "   macro avg       0.83      0.80      0.81       267\n",
      "weighted avg       0.83      0.83      0.83       267\n",
      "\n"
     ]
    },
    {
     "data": {
      "image/png": "[encoded data removed]",
      "text/plain": [
       "<Figure size 432x288 with 2 Axes>"
      ]
     },
     "metadata": {
      "needs_background": "light"
     },
     "output_type": "display_data"
    }
   ],
   "source": [
    "# Create a confusion matrix\n",
    "cm = confusion_matrix(y_test, y_pred_bn)\n",
    "#print('Confusion matrix:\\n', cm)\n",
    "\n",
    "# Create a classification report\n",
    "report = classification_report(y_test, y_pred_bn)\n",
    "print('Classification report:\\n', report)\n",
    "\n",
    "# Plot the confusion matrix\n",
    "fig, ax = plt.subplots()\n",
    "im = ax.imshow(cm, interpolation='nearest', cmap=plt.cm.Blues)\n",
    "ax.set(xticks=np.arange(cm.shape[1]),\n",
    "       yticks=np.arange(cm.shape[0]),\n",
    "       xticklabels=['Not Survived', 'Survived'],\n",
    "       yticklabels=['Not Survived', 'Survived'],\n",
    "       title='Confusion matrix',\n",
    "       ylabel='True label',\n",
    "       xlabel='Predicted label')\n",
    "plt.setp(ax.get_xticklabels(), rotation=45, ha=\"right\", rotation_mode=\"anchor\")\n",
    "for i in range(cm.shape[0]):\n",
    "    for j in range(cm.shape[1]):\n",
    "        ax.text(j, i, format(cm[i, j], 'd'), ha=\"center\", va=\"center\",\n",
    "                color=\"white\" if cm[i, j] > cm.max() / 2 else \"black\")\n",
    "fig.colorbar(im)\n",
    "plt.show()"
   ]
  },
  {
   "cell_type": "markdown",
   "id": "a378ffe6",
   "metadata": {},
   "source": [
    "#### La Matrice de confusion de l'algorithme Naive Bayes"
   ]
  },
  {
   "cell_type": "code",
   "execution_count": 47,
   "id": "500c5b47",
   "metadata": {},
   "outputs": [
    {
     "name": "stdout",
     "output_type": "stream",
     "text": [
      "Classification report:\n",
      "               precision    recall  f1-score   support\n",
      "\n",
      "           1       0.83      0.86      0.85       167\n",
      "           2       0.76      0.71      0.73       100\n",
      "\n",
      "    accuracy                           0.81       267\n",
      "   macro avg       0.79      0.79      0.79       267\n",
      "weighted avg       0.80      0.81      0.80       267\n",
      "\n"
     ]
    },
    {
     "data": {
      "image/png": "[encoded data removed]",
      "text/plain": [
       "<Figure size 432x288 with 2 Axes>"
      ]
     },
     "metadata": {
      "needs_background": "light"
     },
     "output_type": "display_data"
    }
   ],
   "source": [
    "# Create a confusion matrix\n",
    "cm = confusion_matrix(y_test, y_pred_nb)\n",
    "#print('Confusion matrix:\\n', cm)\n",
    "\n",
    "# Create a classification report\n",
    "report = classification_report(y_test, y_pred_nb)\n",
    "print('Classification report:\\n', report)\n",
    "\n",
    "# Plot the confusion matrix\n",
    "fig, ax = plt.subplots()\n",
    "im = ax.imshow(cm, interpolation='nearest', cmap=plt.cm.Blues)\n",
    "ax.set(xticks=np.arange(cm.shape[1]),\n",
    "       yticks=np.arange(cm.shape[0]),\n",
    "       xticklabels=['Not Survived', 'Survived'],\n",
    "       yticklabels=['Not Survived', 'Survived'],\n",
    "       title='Confusion matrix',\n",
    "       ylabel='True label',\n",
    "       xlabel='Predicted label')\n",
    "plt.setp(ax.get_xticklabels(), rotation=45, ha=\"right\", rotation_mode=\"anchor\")\n",
    "for i in range(cm.shape[0]):\n",
    "    for j in range(cm.shape[1]):\n",
    "        ax.text(j, i, format(cm[i, j], 'd'), ha=\"center\", va=\"center\",\n",
    "                color=\"white\" if cm[i, j] > cm.max() / 2 else \"black\")\n",
    "fig.colorbar(im)\n",
    "plt.show()\n"
   ]
  },
  {
   "cell_type": "markdown",
   "id": "d7c30477",
   "metadata": {},
   "source": [
    "# Base de donnée: WINE"
   ]
  },
  {
   "cell_type": "code",
   "execution_count": 48,
   "id": "e0be87fa",
   "metadata": {},
   "outputs": [],
   "source": [
    "# Importer la base de données Titanic de Kaggle\n",
    "wine_data = pd.read_csv('wine.csv')"
   ]
  },
  {
   "cell_type": "code",
   "execution_count": 49,
   "id": "8dbd6bcc",
   "metadata": {},
   "outputs": [
    {
     "data": {
      "text/html": [
       "<div>\n",
       "<style scoped>\n",
       "    .dataframe tbody tr th:only-of-type {\n",
       "        vertical-align: middle;\n",
       "    }\n",
       "\n",
       "    .dataframe tbody tr th {\n",
       "        vertical-align: top;\n",
       "    }\n",
       "\n",
       "    .dataframe thead th {\n",
       "        text-align: right;\n",
       "    }\n",
       "</style>\n",
       "<table border=\"1\" class=\"dataframe\">\n",
       "  <thead>\n",
       "    <tr style=\"text-align: right;\">\n",
       "      <th></th>\n",
       "      <th>fixedacidity</th>\n",
       "      <th>volatileacidity</th>\n",
       "      <th>citricacid</th>\n",
       "      <th>residualsugar</th>\n",
       "      <th>chlorides</th>\n",
       "      <th>freesulfurdioxide</th>\n",
       "      <th>totalsulfurdioxide</th>\n",
       "      <th>density</th>\n",
       "      <th>ph</th>\n",
       "      <th>sulphates</th>\n",
       "      <th>alcohol</th>\n",
       "      <th>quality</th>\n",
       "    </tr>\n",
       "  </thead>\n",
       "  <tbody>\n",
       "    <tr>\n",
       "      <th>0</th>\n",
       "      <td>2</td>\n",
       "      <td>1</td>\n",
       "      <td>2</td>\n",
       "      <td>2</td>\n",
       "      <td>1</td>\n",
       "      <td>1</td>\n",
       "      <td>2</td>\n",
       "      <td>2</td>\n",
       "      <td>2</td>\n",
       "      <td>2</td>\n",
       "      <td>1</td>\n",
       "      <td>3</td>\n",
       "    </tr>\n",
       "    <tr>\n",
       "      <th>1</th>\n",
       "      <td>2</td>\n",
       "      <td>2</td>\n",
       "      <td>2</td>\n",
       "      <td>1</td>\n",
       "      <td>1</td>\n",
       "      <td>1</td>\n",
       "      <td>2</td>\n",
       "      <td>1</td>\n",
       "      <td>3</td>\n",
       "      <td>2</td>\n",
       "      <td>2</td>\n",
       "      <td>3</td>\n",
       "    </tr>\n",
       "    <tr>\n",
       "      <th>2</th>\n",
       "      <td>3</td>\n",
       "      <td>1</td>\n",
       "      <td>2</td>\n",
       "      <td>1</td>\n",
       "      <td>1</td>\n",
       "      <td>1</td>\n",
       "      <td>2</td>\n",
       "      <td>1</td>\n",
       "      <td>3</td>\n",
       "      <td>2</td>\n",
       "      <td>2</td>\n",
       "      <td>3</td>\n",
       "    </tr>\n",
       "    <tr>\n",
       "      <th>3</th>\n",
       "      <td>2</td>\n",
       "      <td>1</td>\n",
       "      <td>1</td>\n",
       "      <td>1</td>\n",
       "      <td>1</td>\n",
       "      <td>1</td>\n",
       "      <td>3</td>\n",
       "      <td>1</td>\n",
       "      <td>3</td>\n",
       "      <td>2</td>\n",
       "      <td>2</td>\n",
       "      <td>3</td>\n",
       "    </tr>\n",
       "    <tr>\n",
       "      <th>4</th>\n",
       "      <td>2</td>\n",
       "      <td>1</td>\n",
       "      <td>1</td>\n",
       "      <td>1</td>\n",
       "      <td>1</td>\n",
       "      <td>1</td>\n",
       "      <td>3</td>\n",
       "      <td>1</td>\n",
       "      <td>3</td>\n",
       "      <td>2</td>\n",
       "      <td>2</td>\n",
       "      <td>3</td>\n",
       "    </tr>\n",
       "  </tbody>\n",
       "</table>\n",
       "</div>"
      ],
      "text/plain": [
       "   fixedacidity  volatileacidity  citricacid  residualsugar  chlorides  \\\n",
       "0             2                1           2              2          1   \n",
       "1             2                2           2              1          1   \n",
       "2             3                1           2              1          1   \n",
       "3             2                1           1              1          1   \n",
       "4             2                1           1              1          1   \n",
       "\n",
       "   freesulfurdioxide  totalsulfurdioxide  density  ph  sulphates  alcohol  \\\n",
       "0                  1                   2        2   2          2        1   \n",
       "1                  1                   2        1   3          2        2   \n",
       "2                  1                   2        1   3          2        2   \n",
       "3                  1                   3        1   3          2        2   \n",
       "4                  1                   3        1   3          2        2   \n",
       "\n",
       "   quality  \n",
       "0        3  \n",
       "1        3  \n",
       "2        3  \n",
       "3        3  \n",
       "4        3  "
      ]
     },
     "execution_count": 49,
     "metadata": {},
     "output_type": "execute_result"
    }
   ],
   "source": [
    "wine_data.head()"
   ]
  },
  {
   "cell_type": "markdown",
   "id": "804d345a",
   "metadata": {},
   "source": [
    "## Nombre de DAG possible & Création d'un réseau bayésien"
   ]
  },
  {
   "cell_type": "code",
   "execution_count": null,
   "id": "727d0d7d",
   "metadata": {},
   "outputs": [
    {
     "name": "stderr",
     "output_type": "stream",
     "text": [
      "C:\\Users\\MSI\\AppData\\Local\\Temp\\ipykernel_14808\\3256195904.py:17: FutureWarning: elementwise comparison failed; returning scalar instead, but in the future will perform elementwise comparison\n",
      "  if subset[j] in data_wine[subset[i]].values:\n"
     ]
    }
   ],
   "source": [
    "# Créer une liste des noms des colonnes\n",
    "columns = data_wine.columns.tolist()\n",
    "\n",
    "# Initialiser un compteur pour le nombre de DAG possibles\n",
    "count = 0\n",
    "\n",
    "# Parcourir toutes les permutations des colonnes\n",
    "for L in range(0, len(columns)+1):\n",
    "    for subset in itertools.permutations(columns, L):\n",
    "        # Vérifier si la permutation est un DAG\n",
    "        is_dag = True\n",
    "        for i in range(1, len(subset)):\n",
    "            for j in range(0, i):\n",
    "                if subset[j] in data_wine[subset[i]].values:\n",
    "                    is_dag = False\n",
    "                    break\n",
    "            if not is_dag:\n",
    "                break\n",
    "        # Incrémenter le compteur si la permutation est un DAG\n",
    "        if is_dag:\n",
    "            count += 1\n",
    "\n",
    "print(\"Le nombre de DAG possibles est : \", count)\n"
   ]
  },
  {
   "cell_type": "code",
   "execution_count": 61,
   "id": "42e07384",
   "metadata": {},
   "outputs": [
    {
     "data": {
      "image/png": "[encoded data removed]",
      "text/plain": [
       "<Figure size 432x288 with 1 Axes>"
      ]
     },
     "metadata": {},
     "output_type": "display_data"
    }
   ],
   "source": [
    "import pandas as pd\n",
    "from pgmpy.models import BayesianModel\n",
    "import networkx as nx\n",
    "import matplotlib.pyplot as plt\n",
    "\n",
    "# Load the Wine dataset\n",
    "data = pd.read_csv('wine.csv')\n",
    "\n",
    "# Define nodes and edges\n",
    "nodes = ['fixedacidity', 'volatileacidity', 'citricacid', 'residualsugar', 'chlorides', 'freesulfurdioxide'\n",
    "         , 'totalsulfurdioxide', 'density', 'ph', 'sulphates', 'alcohol', 'quality']\n",
    "\n",
    "edges = [ ('citricacid', 'ph'),('ph', 'quality'),('freesulfurdioxide', 'quality'),('residualsugar','alcohol')\n",
    "         ,('alcohol','quality'),('totalsulfurdioxide', 'quality'),('chlorides','density'),('density','quality')\n",
    "         ,('sulphates', 'quality'),('fixedacidity', 'quality'),('volatileacidity', 'quality')]\n",
    "\n",
    "# Create directed graph object\n",
    "G = nx.DiGraph()\n",
    "\n",
    "# Add nodes to the graph\n",
    "for node in nodes:\n",
    "    G.add_node(node)\n",
    "\n",
    "# Add edges to the graph\n",
    "G.add_edges_from(edges)\n",
    "\n",
    "# Draw the graph\n",
    "nx.draw(G, with_labels=True)\n",
    "plt.show()\n"
   ]
  },
  {
   "cell_type": "code",
   "execution_count": 101,
   "id": "b6ece85b",
   "metadata": {},
   "outputs": [],
   "source": [
    "nx.write_graphml(G, 'Bayesian_Model_wine.graph')"
   ]
  },
  {
   "cell_type": "markdown",
   "id": "4f888ce9",
   "metadata": {},
   "source": [
    "## Calcule de probabilité"
   ]
  },
  {
   "cell_type": "code",
   "execution_count": 50,
   "id": "bdd49500",
   "metadata": {},
   "outputs": [
    {
     "data": {
      "text/plain": [
       "count    4898.000000\n",
       "mean        2.002246\n",
       "std         0.445286\n",
       "min         1.000000\n",
       "25%         2.000000\n",
       "50%         2.000000\n",
       "75%         2.000000\n",
       "max         5.000000\n",
       "Name: fixedacidity, dtype: float64"
      ]
     },
     "execution_count": 50,
     "metadata": {},
     "output_type": "execute_result"
    }
   ],
   "source": [
    "wine_data['fixedacidity'].describe()"
   ]
  },
  {
   "cell_type": "code",
   "execution_count": 51,
   "id": "4e796be2",
   "metadata": {},
   "outputs": [
    {
     "data": {
      "text/plain": [
       "count    4898.000000\n",
       "mean        2.880972\n",
       "std         0.871532\n",
       "min         1.000000\n",
       "25%         2.000000\n",
       "50%         3.000000\n",
       "75%         3.000000\n",
       "max         5.000000\n",
       "Name: quality, dtype: float64"
      ]
     },
     "execution_count": 51,
     "metadata": {},
     "output_type": "execute_result"
    }
   ],
   "source": [
    "wine_data['quality'].describe()"
   ]
  },
  {
   "cell_type": "code",
   "execution_count": 52,
   "id": "8b5f0985",
   "metadata": {},
   "outputs": [
    {
     "name": "stdout",
     "output_type": "stream",
     "text": [
      "La probabilité de qualite = 1 est: 0.03736218864842793\n",
      "La probabilité de qualite = 2 est: 0.2974683544303797\n",
      "La probabilité de qualite = 3 est: 0.44875459371171905\n",
      "La probabilité de qualite = 4 est: 0.17966516945692118\n",
      "La probabilité de qualite = 5 est: 0.03674969375255206\n"
     ]
    }
   ],
   "source": [
    "nb_qual_1 = len(wine_data[wine_data['quality'] == 1])\n",
    "p_qual_1 = nb_qual_1 / len(wine_data['quality'])\n",
    "print('La probabilité de qualite = 1 est:', p_qual_1)\n",
    "\n",
    "nb_qual_2 = len(wine_data[wine_data['quality'] == 2])\n",
    "p_qual_2 = nb_qual_2 / len(wine_data['quality'])\n",
    "print('La probabilité de qualite = 2 est:', p_qual_2)\n",
    "\n",
    "nb_qual_3 = len(wine_data[wine_data['quality'] == 3])\n",
    "p_qual_3 = nb_qual_3 / len(wine_data['quality'])\n",
    "print('La probabilité de qualite = 3 est:', p_qual_3)\n",
    "\n",
    "nb_qual_4 = len(wine_data[wine_data['quality'] == 4])\n",
    "p_qual_4 = nb_qual_4 / len(wine_data['quality'])\n",
    "print('La probabilité de qualite = 4 est:', p_qual_4)\n",
    "\n",
    "nb_qual_5 = len(wine_data[wine_data['quality'] == 5])\n",
    "p_qual_5 = nb_qual_5 / len(wine_data['quality'])\n",
    "print('La probabilité de qualite = 5 est:', p_qual_5)"
   ]
  },
  {
   "cell_type": "code",
   "execution_count": 55,
   "id": "0cd9b587",
   "metadata": {},
   "outputs": [
    {
     "data": {
      "image/png": "[encoded data removed]",
      "text/plain": [
       "<Figure size 720x720 with 2 Axes>"
      ]
     },
     "metadata": {
      "needs_background": "light"
     },
     "output_type": "display_data"
    }
   ],
   "source": [
    "import seaborn as sns\n",
    "corr_matrix = wine_data.corr()\n",
    "# plot correlation matrix\n",
    "plt.figure(figsize=(10, 10))\n",
    "sns.heatmap(corr_matrix)\n",
    "# show plot\n",
    "plt.show()"
   ]
  },
  {
   "cell_type": "markdown",
   "id": "90074673",
   "metadata": {},
   "source": [
    "P(quality|ph,density,alcohol,totalsulfurdioxide,sulphates,volatileacidity,fixedacidity,freesulfurdioxide) = P(ph,density,alcohol,totalsulfurdioxide,sulphates,volatileacidity,fixedacidity,freesulfurdioxide|quality) * P(Quality) /\n",
    "P(ph,density,alcohol,totalsulfurdioxide,sulphates,volatileacidity,fixedacidity,freesulfurdioxide)\n",
    "\n",
    "P(ph,density,residualsugar,totalsulfurdioxide,sulphates,volatileacidity,fixedacidity,freesulfurdioxide|quality) = P(ph|quality) * P(density|quality) * P(sulphates|quality) * P(alcohol|quality) * P(totalsulfurdioxide|quality) * P(volatileacidityvolatileacidity|quality) * P(fixedacidity|quality) * P(freesulfurdioxide|quality)"
   ]
  },
  {
   "cell_type": "markdown",
   "id": "33a5e8be",
   "metadata": {},
   "source": [
    "D'aprés la formule (1) il faut calculer les probabilités conditionnelles suivantes :\n",
    "\n",
    "\n",
    "P(ph|quality)\n",
    "\n",
    "P(density|quality)\n",
    "\n",
    "P(sulphates|quality)\n",
    "\n",
    "P(alcohol|quality)\n",
    "\n",
    "P(totalsulfurdioxide|quality)\n",
    "\n",
    "P(volatileacidityvolatileacidity|quality)\n",
    "\n",
    "P(fixedacidity|quality)\n",
    "\n",
    "P(freesulfurdioxide|quality)"
   ]
  },
  {
   "cell_type": "code",
   "execution_count": 64,
   "id": "378872b4",
   "metadata": {
    "scrolled": true
   },
   "outputs": [
    {
     "name": "stdout",
     "output_type": "stream",
     "text": [
      "quality\n",
      "1    0.037362\n",
      "2    0.297468\n",
      "3    0.448755\n",
      "4    0.179665\n",
      "5    0.036750\n",
      "dtype: float64\n"
     ]
    }
   ],
   "source": [
    "# Calcul de P(quality)\n",
    "quality = wine_data.groupby('quality').size().div(len(wine_data)) \n",
    "print(quality)"
   ]
  },
  {
   "cell_type": "code",
   "execution_count": 65,
   "id": "72a815cb",
   "metadata": {},
   "outputs": [
    {
     "name": "stdout",
     "output_type": "stream",
     "text": [
      "{'ph': quality  ph\n",
      "1        1     0.060109\n",
      "         2     0.415301\n",
      "         3     0.393443\n",
      "         4     0.114754\n",
      "         5     0.016393\n",
      "2        1     0.035003\n",
      "         2     0.450927\n",
      "         3     0.439259\n",
      "         4     0.065202\n",
      "         5     0.009609\n",
      "3        1     0.035487\n",
      "         2     0.390355\n",
      "         3     0.469973\n",
      "         4     0.093267\n",
      "         5     0.010919\n",
      "4        1     0.036364\n",
      "         2     0.353409\n",
      "         3     0.447727\n",
      "         4     0.152273\n",
      "         5     0.010227\n",
      "5        2     0.333333\n",
      "         3     0.505556\n",
      "         4     0.161111\n",
      "dtype: float64, 'density': quality  density\n",
      "1        1          0.852459\n",
      "         2          0.147541\n",
      "2        1          0.774880\n",
      "         2          0.225120\n",
      "3        1          0.862602\n",
      "         2          0.136033\n",
      "         3          0.000910\n",
      "         5          0.000455\n",
      "4        1          0.904545\n",
      "         2          0.095455\n",
      "5        1          0.905556\n",
      "         2          0.094444\n",
      "dtype: float64, 'sulphates': quality  sulphates\n",
      "1        1            0.295082\n",
      "         2            0.486339\n",
      "         3            0.191257\n",
      "         4            0.027322\n",
      "2        1            0.183940\n",
      "         2            0.651338\n",
      "         3            0.143445\n",
      "         4            0.021277\n",
      "3        1            0.204277\n",
      "         2            0.583258\n",
      "         3            0.174249\n",
      "         4            0.032757\n",
      "         5            0.005460\n",
      "4        1            0.210227\n",
      "         2            0.512500\n",
      "         3            0.221591\n",
      "         4            0.044318\n",
      "         5            0.011364\n",
      "5        1            0.322222\n",
      "         2            0.394444\n",
      "         3            0.200000\n",
      "         4            0.072222\n",
      "         5            0.011111\n",
      "dtype: float64, 'alcohol': quality  alcohol\n",
      "1        1          0.207650\n",
      "         2          0.437158\n",
      "         3          0.289617\n",
      "         4          0.060109\n",
      "         5          0.005464\n",
      "2        1          0.283459\n",
      "         2          0.501030\n",
      "         3          0.185312\n",
      "         4          0.027454\n",
      "         5          0.002745\n",
      "3        1          0.136943\n",
      "         2          0.359873\n",
      "         3          0.320291\n",
      "         4          0.163330\n",
      "         5          0.019563\n",
      "4        1          0.085227\n",
      "         2          0.132955\n",
      "         3          0.359091\n",
      "         4          0.340909\n",
      "         5          0.081818\n",
      "5        1          0.100000\n",
      "         2          0.066667\n",
      "         3          0.261111\n",
      "         4          0.472222\n",
      "         5          0.100000\n",
      "dtype: float64, 'totalsulfurdioxide': quality  totalsulfurdioxide\n",
      "1        1                     0.300546\n",
      "         2                     0.491803\n",
      "         3                     0.185792\n",
      "         4                     0.010929\n",
      "         5                     0.010929\n",
      "2        1                     0.107069\n",
      "         2                     0.634866\n",
      "         3                     0.255319\n",
      "         4                     0.002745\n",
      "3        1                     0.151046\n",
      "         2                     0.695632\n",
      "         3                     0.152411\n",
      "         4                     0.000910\n",
      "4        1                     0.185227\n",
      "         2                     0.757955\n",
      "         3                     0.056818\n",
      "5        1                     0.155556\n",
      "         2                     0.794444\n",
      "         3                     0.050000\n",
      "dtype: float64, 'volatileacidityvolatileacidity': quality  volatileacidity\n",
      "1        1                  0.377049\n",
      "         2                  0.398907\n",
      "         3                  0.185792\n",
      "         4                  0.016393\n",
      "         5                  0.021858\n",
      "2        1                  0.500343\n",
      "         2                  0.448181\n",
      "         3                  0.044612\n",
      "         4                  0.006177\n",
      "         5                  0.000686\n",
      "3        1                  0.695177\n",
      "         2                  0.283439\n",
      "         3                  0.020018\n",
      "         4                  0.000910\n",
      "         5                  0.000455\n",
      "4        1                  0.635227\n",
      "         2                  0.347727\n",
      "         3                  0.015909\n",
      "         4                  0.001136\n",
      "5        1                  0.611111\n",
      "         2                  0.344444\n",
      "         3                  0.044444\n",
      "dtype: float64, 'fixedacidity': quality  fixedacidity\n",
      "1        1               0.071038\n",
      "         2               0.699454\n",
      "         3               0.213115\n",
      "         4               0.016393\n",
      "2        1               0.072752\n",
      "         2               0.820178\n",
      "         3               0.106383\n",
      "         4               0.000686\n",
      "3        1               0.098726\n",
      "         2               0.804823\n",
      "         3               0.095086\n",
      "         4               0.000910\n",
      "         5               0.000455\n",
      "4        1               0.115909\n",
      "         2               0.823864\n",
      "         3               0.060227\n",
      "5        1               0.183333\n",
      "         2               0.755556\n",
      "         3               0.061111\n",
      "dtype: float64, 'freesulfurdioxide': quality  freesulfurdioxide\n",
      "1        1                    0.912568\n",
      "         2                    0.054645\n",
      "         3                    0.027322\n",
      "         5                    0.005464\n",
      "2        1                    0.894990\n",
      "         2                    0.103638\n",
      "         3                    0.001373\n",
      "3        1                    0.923112\n",
      "         2                    0.076888\n",
      "4        1                    0.956818\n",
      "         2                    0.043182\n",
      "5        1                    0.944444\n",
      "         2                    0.055556\n",
      "dtype: float64}\n"
     ]
    }
   ],
   "source": [
    "likelihood = {}\n",
    "likelihood['ph'] = wine_data.groupby(['quality', 'ph']).size().div(len(wine_data)).div(quality)\n",
    "likelihood['density'] = wine_data.groupby(['quality', 'density']).size().div(len(wine_data)).div(quality)\n",
    "likelihood['sulphates'] = wine_data.groupby(['quality', 'sulphates']).size().div(len(wine_data)).div(quality)\n",
    "likelihood['alcohol'] = wine_data.groupby(['quality', 'alcohol']).size().div(len(wine_data)).div(quality)\n",
    "likelihood['totalsulfurdioxide'] = wine_data.groupby(['quality', 'totalsulfurdioxide']).size().div(len(wine_data)).div(quality)\n",
    "likelihood['volatileacidityvolatileacidity'] = wine_data.groupby(['quality', 'volatileacidity']).size().div(len(wine_data)).div(quality)\n",
    "likelihood['fixedacidity'] = wine_data.groupby(['quality', 'fixedacidity']).size().div(len(wine_data)).div(quality)\n",
    "likelihood['freesulfurdioxide'] = wine_data.groupby(['quality', 'freesulfurdioxide']).size().div(len(wine_data)).div(quality)\n",
    "print (likelihood)"
   ]
  },
  {
   "cell_type": "markdown",
   "id": "4f60a932",
   "metadata": {},
   "source": [
    "#### Calcul des variables sans parents"
   ]
  },
  {
   "cell_type": "code",
   "execution_count": 97,
   "id": "3963e5c8",
   "metadata": {},
   "outputs": [
    {
     "name": "stdout",
     "output_type": "stream",
     "text": [
      "volatileacidity\n",
      "1    0.611474\n",
      "2    0.350551\n",
      "3    0.033687\n",
      "4    0.003062\n",
      "5    0.001225\n",
      "dtype: float64\n",
      "fixedacidity\n",
      "1    0.096162\n",
      "2    0.807064\n",
      "3    0.095345\n",
      "4    0.001225\n",
      "5    0.000204\n",
      "dtype: float64\n",
      "sulphates\n",
      "1    0.207023\n",
      "2    0.580237\n",
      "3    0.175174\n",
      "4    0.032666\n",
      "5    0.004900\n",
      "dtype: float64\n",
      "chlorides\n",
      "1    0.964271\n",
      "2    0.022050\n",
      "3    0.011637\n",
      "4    0.001429\n",
      "5    0.000612\n",
      "dtype: float64\n",
      "totalsulfurdioxide\n",
      "1    0.149857\n",
      "2    0.684769\n",
      "3    0.163332\n",
      "4    0.001633\n",
      "5    0.000408\n",
      "dtype: float64\n",
      "residualsugar\n",
      "1    0.888934\n",
      "2    0.110453\n",
      "3    0.000408\n",
      "5    0.000204\n",
      "dtype: float64\n",
      "freesulfurdioxide\n",
      "1    0.921192\n",
      "2    0.077174\n",
      "3    0.001429\n",
      "5    0.000204\n",
      "dtype: float64\n",
      "citricacid\n",
      "1    0.585953\n",
      "2    0.392813\n",
      "3    0.019804\n",
      "4    0.001225\n",
      "5    0.000204\n",
      "dtype: float64\n"
     ]
    }
   ],
   "source": [
    "#calcul des variables sans parents \n",
    "volatileacidity = wine_data.groupby('volatileacidity').size().div(len(wine_data)) \n",
    "fixedacidity = wine_data.groupby('fixedacidity').size().div(len(wine_data)) \n",
    "sulphates = wine_data.groupby('sulphates').size().div(len(wine_data)) \n",
    "chlorides = wine_data.groupby('chlorides').size().div(len(wine_data)) \n",
    "totalsulfurdioxide = wine_data.groupby('totalsulfurdioxide').size().div(len(wine_data)) \n",
    "residualsugar = wine_data.groupby('residualsugar').size().div(len(wine_data))\n",
    "freesulfurdioxide = wine_data.groupby('freesulfurdioxide').size().div(len(wine_data)) \n",
    "citricacid = wine_data.groupby('citricacid').size().div(len(wine_data))\n",
    "print (volatileacidity)\n",
    "print (fixedacidity)\n",
    "print(sulphates)\n",
    "print(chlorides)\n",
    "print (totalsulfurdioxide) \n",
    "print(residualsugar)\n",
    "print(freesulfurdioxide)\n",
    "print(citricacid)"
   ]
  },
  {
   "cell_type": "markdown",
   "id": "9b7a0c89",
   "metadata": {},
   "source": [
    "#### Calcul de P(density|chlorides)"
   ]
  },
  {
   "cell_type": "code",
   "execution_count": 98,
   "id": "3f439d65",
   "metadata": {},
   "outputs": [
    {
     "name": "stdout",
     "output_type": "stream",
     "text": [
      "{'density': chlorides  density\n",
      "1          1          0.845225\n",
      "           2          0.154139\n",
      "           3          0.000423\n",
      "           5          0.000212\n",
      "2          1          0.833333\n",
      "           2          0.166667\n",
      "3          1          0.912281\n",
      "           2          0.087719\n",
      "4          1          0.714286\n",
      "           2          0.285714\n",
      "5          1          0.333333\n",
      "           2          0.666667\n",
      "dtype: float64}\n"
     ]
    }
   ],
   "source": [
    "#calcul de P(density|chlorides)\n",
    "likelihood1 = {}\n",
    "likelihood1['density'] = wine_data.groupby(['chlorides', 'density']).size().div(len(wine_data)).div(chlorides)\n",
    "print(likelihood1)"
   ]
  },
  {
   "cell_type": "markdown",
   "id": "bb9a381f",
   "metadata": {},
   "source": [
    "#### Calcul de P(alcohol|residualsugar)"
   ]
  },
  {
   "cell_type": "code",
   "execution_count": 99,
   "id": "a8dceae3",
   "metadata": {},
   "outputs": [
    {
     "name": "stdout",
     "output_type": "stream",
     "text": [
      "{'alcohol': residualsugar  alcohol\n",
      "1              1          0.118741\n",
      "               2          0.359669\n",
      "               3          0.311897\n",
      "               4          0.178686\n",
      "               5          0.031006\n",
      "2              1          0.602588\n",
      "               2          0.303142\n",
      "               3          0.057301\n",
      "               4          0.031423\n",
      "               5          0.005545\n",
      "3              1          1.000000\n",
      "5              3          1.000000\n",
      "dtype: float64}\n"
     ]
    }
   ],
   "source": [
    "#calcul de P(alcohol|residualsugar)\n",
    "likelihood2 = {}\n",
    "likelihood2['alcohol'] = wine_data.groupby(['residualsugar', 'alcohol']).size().div(len(wine_data)).div(residualsugar)\n",
    "print(likelihood2)"
   ]
  },
  {
   "cell_type": "markdown",
   "id": "1ec2812a",
   "metadata": {},
   "source": [
    "#### Calcul de P(ph|citricacid)"
   ]
  },
  {
   "cell_type": "code",
   "execution_count": 100,
   "id": "b0738716",
   "metadata": {},
   "outputs": [
    {
     "name": "stdout",
     "output_type": "stream",
     "text": [
      "{'ph': citricacid  ph\n",
      "1           1     0.030662\n",
      "            2     0.367944\n",
      "            3     0.472822\n",
      "            4     0.114634\n",
      "            5     0.013937\n",
      "2           1     0.038981\n",
      "            2     0.440229\n",
      "            3     0.440229\n",
      "            4     0.075884\n",
      "            5     0.004678\n",
      "3           1     0.092784\n",
      "            2     0.577320\n",
      "            3     0.226804\n",
      "            4     0.092784\n",
      "            5     0.010309\n",
      "4           2     0.500000\n",
      "            3     0.500000\n",
      "5           3     1.000000\n",
      "dtype: float64}\n"
     ]
    }
   ],
   "source": [
    "#calcul de P(ph|citricacid)\n",
    "likelihood3 = {}\n",
    "likelihood3['ph'] = wine_data.groupby(['citricacid', 'ph']).size().div(len(wine_data)).div(citricacid)\n",
    "print(likelihood3)"
   ]
  },
  {
   "cell_type": "markdown",
   "id": "e0f8a300",
   "metadata": {},
   "source": [
    "## Classification"
   ]
  },
  {
   "cell_type": "markdown",
   "id": "82479921",
   "metadata": {},
   "source": [
    "### Séparer les données en ensemble d'entraînement et ensemble de test."
   ]
  },
  {
   "cell_type": "code",
   "execution_count": 71,
   "id": "337f4d1f",
   "metadata": {},
   "outputs": [],
   "source": [
    "features = ['fixedacidity', 'volatileacidity', 'citricacid', 'residualsugar', 'chlorides', 'freesulfurdioxide', 'totalsulfurdioxide',\n",
    "           'density', 'ph', 'sulphates', 'alcohol']\n",
    "X_train, X_test, y_train, y_test = train_test_split(wine_data[features], wine_data['quality'], test_size=0.3, random_state=42)"
   ]
  },
  {
   "cell_type": "markdown",
   "id": "942fdc59",
   "metadata": {},
   "source": [
    "### Classification avec le Réseau Bayésien"
   ]
  },
  {
   "cell_type": "code",
   "execution_count": 72,
   "id": "4c8a0de3",
   "metadata": {},
   "outputs": [
    {
     "name": "stderr",
     "output_type": "stream",
     "text": [
      "C:\\Users\\MSI\\anaconda3\\lib\\site-packages\\pgmpy\\models\\BayesianModel.py:8: FutureWarning: BayesianModel has been renamed to BayesianNetwork. Please use BayesianNetwork class, BayesianModel will be removed in future.\n",
      "  warnings.warn(\n"
     ]
    }
   ],
   "source": [
    "# Create Bayesian Network object\n",
    "wine_bn = BayesianModel(edges)"
   ]
  },
  {
   "cell_type": "code",
   "execution_count": 73,
   "id": "24d6c807",
   "metadata": {},
   "outputs": [],
   "source": [
    "# Define the probability distributions of the variables using BayesianEstimator\n",
    "wine_bn.fit(wine_data, estimator=BayesianEstimator)"
   ]
  },
  {
   "cell_type": "code",
   "execution_count": 75,
   "id": "67e13acb",
   "metadata": {},
   "outputs": [
    {
     "data": {
      "application/vnd.jupyter.widget-view+json": {
       "model_id": "b84dcc2e366b43748e027e7d84b67c45",
       "version_major": 2,
       "version_minor": 0
      },
      "text/plain": [
       "  0%|          | 0/677 [00:00<?, ?it/s]"
      ]
     },
     "metadata": {},
     "output_type": "display_data"
    },
    {
     "name": "stdout",
     "output_type": "stream",
     "text": [
      "\n",
      "Bayesian Network Classifier Performance:\n",
      "Accuracy: 0.6605442176870748\n",
      "Precision: 0.6709592875848862\n",
      "Recall: 0.6605442176870748\n",
      "F1 Score: 0.6497182087816809\n"
     ]
    }
   ],
   "source": [
    "# Prédire les étiquettes sur l'ensemble de test\n",
    "y_pred_bn = wine_bn.predict(X_test)\n",
    "\n",
    "print(\"\\nBayesian Network Classifier Performance:\")\n",
    "print(\"Accuracy:\", accuracy_score(y_test, y_pred_bn))\n",
    "print(\"Precision:\", precision_score(y_test, y_pred_bn, average='weighted'))\n",
    "print(\"Recall:\", recall_score(y_test, y_pred_bn, average='weighted'))\n",
    "print(\"F1 Score:\", f1_score(y_test, y_pred_bn, average='weighted'))"
   ]
  },
  {
   "cell_type": "markdown",
   "id": "c44e5982",
   "metadata": {},
   "source": [
    "### Classification avec l'algorithme de Naive Bayes"
   ]
  },
  {
   "cell_type": "code",
   "execution_count": 79,
   "id": "f75facd6",
   "metadata": {},
   "outputs": [
    {
     "data": {
      "text/plain": [
       "GaussianNB()"
      ]
     },
     "execution_count": 79,
     "metadata": {},
     "output_type": "execute_result"
    }
   ],
   "source": [
    "classifier = GaussianNB()  \n",
    "classifier.fit(X_train, y_train)  "
   ]
  },
  {
   "cell_type": "code",
   "execution_count": 80,
   "id": "bbdb61b7",
   "metadata": {},
   "outputs": [],
   "source": [
    "y_pred_nb = classifier.predict(X_test)"
   ]
  },
  {
   "cell_type": "code",
   "execution_count": 81,
   "id": "2777b6c0",
   "metadata": {},
   "outputs": [
    {
     "name": "stdout",
     "output_type": "stream",
     "text": [
      "Naive Bayes Classifier Performance:\n",
      "Accuracy: 0.3081632653061224\n",
      "Precision: 0.6709592875848862\n",
      "Recall: 0.6605442176870748\n",
      "F1 Score: 0.6497182087816809\n"
     ]
    }
   ],
   "source": [
    "# Calculer les métriques de performance\n",
    "print(\"Naive Bayes Classifier Performance:\")\n",
    "print(\"Accuracy:\", accuracy_score(y_test, y_pred_nb))\n",
    "print(\"Precision:\", precision_score(y_test, y_pred_bn, average='weighted'))\n",
    "print(\"Recall:\", recall_score(y_test, y_pred_bn, average='weighted'))\n",
    "print(\"F1 Score:\", f1_score(y_test, y_pred_bn, average='weighted'))"
   ]
  },
  {
   "cell_type": "markdown",
   "id": "d1400315",
   "metadata": {},
   "source": [
    "### Comparaision entre le réseau bayésien et l'lagorithme de classification naive bayes"
   ]
  },
  {
   "cell_type": "markdown",
   "id": "60b8351d",
   "metadata": {},
   "source": [
    "#### La Matrice de confusion du Réseau Bayésien"
   ]
  },
  {
   "cell_type": "code",
   "execution_count": 91,
   "id": "59a97415",
   "metadata": {},
   "outputs": [
    {
     "name": "stdout",
     "output_type": "stream",
     "text": [
      "Classification report:\n",
      "               precision    recall  f1-score   support\n",
      "\n",
      "           1       0.63      0.51      0.56        47\n",
      "           2       0.71      0.62      0.66       426\n",
      "           3       0.63      0.81      0.71       668\n",
      "           4       0.68      0.46      0.55       280\n",
      "           5       0.85      0.22      0.35        49\n",
      "\n",
      "    accuracy                           0.66      1470\n",
      "   macro avg       0.70      0.53      0.57      1470\n",
      "weighted avg       0.67      0.66      0.65      1470\n",
      "\n"
     ]
    },
    {
     "data": {
      "image/png": "[encoded data removed]",
      "text/plain": [
       "<Figure size 432x288 with 2 Axes>"
      ]
     },
     "metadata": {
      "needs_background": "light"
     },
     "output_type": "display_data"
    }
   ],
   "source": [
    "# Create a confusion matrix\n",
    "labels = np.unique(y_test)\n",
    "cm = confusion_matrix(y_test, y_pred_bn, labels=labels)\n",
    "#print('Confusion matrix:\\n', cm)\n",
    "\n",
    "# Create a classification report\n",
    "report = classification_report(y_test, y_pred_bn)\n",
    "print('Classification report:\\n', report)\n",
    "\n",
    "# Plot the confusion matrix\n",
    "fig, ax = plt.subplots()\n",
    "im = ax.imshow(cm, interpolation='nearest', cmap=plt.cm.Blues)\n",
    "ax.set(xticks=np.arange(len(labels)),\n",
    "       yticks=np.arange(len(labels)),\n",
    "       xticklabels=labels,\n",
    "       yticklabels=labels,\n",
    "       title='Confusion matrix',\n",
    "       ylabel='True label',\n",
    "       xlabel='Predicted label')\n",
    "plt.setp(ax.get_xticklabels(), rotation=45, ha=\"right\", rotation_mode=\"anchor\")\n",
    "for i in range(cm.shape[0]):\n",
    "    for j in range(cm.shape[1]):\n",
    "        ax.text(j, i, format(cm[i, j], 'd'), ha=\"center\", va=\"center\",\n",
    "                color=\"white\" if cm[i, j] > cm.max() / 2 else \"black\")\n",
    "fig.colorbar(im)\n",
    "plt.show()\n"
   ]
  },
  {
   "cell_type": "markdown",
   "id": "031fa600",
   "metadata": {},
   "source": [
    "#### La Matrice de confusion de l'algorithme Naive Bayes"
   ]
  },
  {
   "cell_type": "code",
   "execution_count": 90,
   "id": "259c7176",
   "metadata": {},
   "outputs": [
    {
     "name": "stdout",
     "output_type": "stream",
     "text": [
      "Classification report:\n",
      "               precision    recall  f1-score   support\n",
      "\n",
      "           1       0.22      0.15      0.18        47\n",
      "           2       0.47      0.38      0.42       426\n",
      "           3       0.46      0.09      0.15       668\n",
      "           4       0.24      0.80      0.36       280\n",
      "           5       0.00      0.00      0.00        49\n",
      "\n",
      "    accuracy                           0.31      1470\n",
      "   macro avg       0.28      0.28      0.22      1470\n",
      "weighted avg       0.40      0.31      0.26      1470\n",
      "\n"
     ]
    },
    {
     "data": {
      "image/png": "[encoded data removed]",
      "text/plain": [
       "<Figure size 432x288 with 2 Axes>"
      ]
     },
     "metadata": {
      "needs_background": "light"
     },
     "output_type": "display_data"
    }
   ],
   "source": [
    "# Create a confusion matrix\n",
    "labels = np.unique(y_test)\n",
    "cm = confusion_matrix(y_test, y_pred_nb, labels=labels)\n",
    "#print('Confusion matrix:\\n', cm)\n",
    "\n",
    "# Create a classification report\n",
    "report = classification_report(y_test, y_pred_nb)\n",
    "print('Classification report:\\n', report)\n",
    "\n",
    "# Plot the confusion matrix\n",
    "fig, ax = plt.subplots()\n",
    "im = ax.imshow(cm, interpolation='nearest', cmap=plt.cm.Blues)\n",
    "ax.set(xticks=np.arange(len(labels)),\n",
    "       yticks=np.arange(len(labels)),\n",
    "       xticklabels=labels,\n",
    "       yticklabels=labels,\n",
    "       title='Confusion matrix',\n",
    "       ylabel='True label',\n",
    "       xlabel='Predicted label')\n",
    "plt.setp(ax.get_xticklabels(), rotation=45, ha=\"right\", rotation_mode=\"anchor\")\n",
    "for i in range(cm.shape[0]):\n",
    "    for j in range(cm.shape[1]):\n",
    "        ax.text(j, i, format(cm[i, j], 'd'), ha=\"center\", va=\"center\",\n",
    "                color=\"white\" if cm[i, j] > cm.max() / 2 else \"black\")\n",
    "fig.colorbar(im)\n",
    "plt.show()\n"
   ]
  }
 ],
 "metadata": {
  "kernelspec": {
   "display_name": "Python 3 (ipykernel)",
   "language": "python",
   "name": "python3"
  },
  "language_info": {
   "codemirror_mode": {
    "name": "ipython",
    "version": 3
   },
   "file_extension": ".py",
   "mimetype": "text/x-python",
   "name": "python",
   "nbconvert_exporter": "python",
   "pygments_lexer": "ipython3",
   "version": "3.9.12"
  }
 },
 "nbformat": 4,
 "nbformat_minor": 5
}
